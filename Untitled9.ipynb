{
  "nbformat": 4,
  "nbformat_minor": 0,
  "metadata": {
    "colab": {
      "provenance": []
    },
    "kernelspec": {
      "name": "python3",
      "display_name": "Python 3"
    },
    "language_info": {
      "name": "python"
    }
  },
  "cells": [
    {
      "cell_type": "code",
      "source": [
        "from types import new_class\n",
        "import csv\n",
        "with open('web scraping.csv',mode='w',newline='')as file:\n",
        "  writer=csv.DictWriter(file,['title','price','rate'])\n",
        "  writer.writeheader()\n",
        "  for book in soup.find_all(\"article\", class_=\"product_pod\"):\n",
        "    title = book.h3.a[\"title\"]\n",
        "    price = book.find(\"p\", class_=\"price_color\").text[1:]\n",
        "    rating = book.find(\"p\", class_=\"star-rating\")[\"class\"][1]\n",
        "  writer.writerow({'title' :title ,'price':price,'rate':rating})"
      ],
      "metadata": {
        "id": "nacncgyGTNhS"
      },
      "execution_count": 18,
      "outputs": []
    },
    {
      "cell_type": "code",
      "source": [
        "import requests\n",
        "from bs4 import BeautifulSoup\n",
        "\n",
        "url = \"https://books.toscrape.com/\"\n",
        "response = requests.get(url)\n",
        "soup = BeautifulSoup(response.text, \"html.parser\")\n",
        "\n",
        "for book in soup.find_all(\"article\", class_=\"product_pod\"):\n",
        "    title = book.h3.a[\"title\"]\n",
        "    price = book.find(\"p\", class_=\"price_color\").text[1:]\n",
        "    rating = book.find(\"p\", class_=\"star-rating\")[\"class\"][1]\n",
        "    print(title, price, rating)\n"
      ],
      "metadata": {
        "colab": {
          "base_uri": "https://localhost:8080/"
        },
        "id": "onudQ3IuGq6X",
        "outputId": "e9c14a2e-085d-47ad-eb13-ec7463488fd7"
      },
      "execution_count": null,
      "outputs": [
        {
          "output_type": "stream",
          "name": "stdout",
          "text": [
            "A Light in the Attic £51.77 Three\n",
            "Tipping the Velvet £53.74 One\n",
            "Soumission £50.10 One\n",
            "Sharp Objects £47.82 Four\n",
            "Sapiens: A Brief History of Humankind £54.23 Five\n",
            "The Requiem Red £22.65 One\n",
            "The Dirty Little Secrets of Getting Your Dream Job £33.34 Four\n",
            "The Coming Woman: A Novel Based on the Life of the Infamous Feminist, Victoria Woodhull £17.93 Three\n",
            "The Boys in the Boat: Nine Americans and Their Epic Quest for Gold at the 1936 Berlin Olympics £22.60 Four\n",
            "The Black Maria £52.15 One\n",
            "Starving Hearts (Triangular Trade Trilogy, #1) £13.99 Two\n",
            "Shakespeare's Sonnets £20.66 Four\n",
            "Set Me Free £17.46 Five\n",
            "Scott Pilgrim's Precious Little Life (Scott Pilgrim #1) £52.29 Five\n",
            "Rip it Up and Start Again £35.02 Five\n",
            "Our Band Could Be Your Life: Scenes from the American Indie Underground, 1981-1991 £57.25 Three\n",
            "Olio £23.88 One\n",
            "Mesaerion: The Best Science Fiction Stories 1800-1849 £37.59 One\n",
            "Libertarianism for Beginners £51.33 Two\n",
            "It's Only the Himalayas £45.17 Two\n"
          ]
        }
      ]
    },
    {
      "cell_type": "code",
      "source": [
        "import requests\n",
        "from bs4 import BeautifulSoup\n",
        "import csv\n",
        "\n",
        "url = \"https://books.toscrape.com/\"\n",
        "response = requests.get(url)\n",
        "soup = BeautifulSoup(response.text, \"html.parser\")\n",
        "\n",
        "# حدد اسم ومسار الملف\n",
        "filename = \"books.csv\"\n",
        "\n",
        "# فتح الملف للكتابة\n",
        "with open(filename, \"w\", newline=\"\", encoding=\"utf-8\") as file:\n",
        "    writer = csv.writer(file)\n",
        "    writer.writerow([\"Title\", \"Price\", \"Rating\"])\n",
        "\n",
        "    for book in soup.find_all(\"article\", class_=\"product_pod\"):\n",
        "        title = book.h3.a[\"title\"]\n",
        "        price = book.find(\"p\", class_=\"price_color\").text[1:]\n",
        "        rating = book.find(\"p\", class_=\"star-rating\")[\"class\"][1]\n",
        "        writer.writerow([title, price, rating])\n",
        "\n",
        "print(f\"✅ تم حفظ البيانات في ملف: {filename}\")\n"
      ],
      "metadata": {
        "colab": {
          "base_uri": "https://localhost:8080/"
        },
        "id": "uVtJ36-patLy",
        "outputId": "d47e3a50-93b2-4f14-f3cd-042283843370"
      },
      "execution_count": 20,
      "outputs": [
        {
          "output_type": "stream",
          "name": "stdout",
          "text": [
            "✅ تم حفظ البيانات في ملف: books.csv\n"
          ]
        }
      ]
    }
  ]
}